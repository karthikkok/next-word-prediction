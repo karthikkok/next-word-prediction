{
 "cells": [
  {
   "cell_type": "markdown",
   "id": "84445f46",
   "metadata": {},
   "source": [
    "## building generalized models\n",
    "\n",
    "Already Trained the model with 150 epochs\n",
    "\n"
   ]
  },
  {
   "cell_type": "code",
   "execution_count": null,
   "id": "ccbf0fab",
   "metadata": {},
   "outputs": [],
   "source": []
  },
  {
   "cell_type": "code",
   "execution_count": null,
   "id": "a45fe150",
   "metadata": {},
   "outputs": [],
   "source": []
  },
  {
   "cell_type": "markdown",
   "id": "6abb137c",
   "metadata": {},
   "source": [
    "## smaller model for generalization"
   ]
  },
  {
   "cell_type": "markdown",
   "id": "f0fb839e",
   "metadata": {},
   "source": [
    "Model used initially\n",
    "\n",
    "\n",
    "\n",
    "```python\n",
    "#Define the model\n",
    "model=Sequential()\n",
    "model.add(Embedding(total_words,100,input_length=max_sequence_len-1))\n",
    "model.add(LSTM(150,return_sequences=True))\n",
    "model.add(Dropout(0.2))\n",
    "model.add(LSTM(100))\n",
    "model.add(Dense(total_words,activation=\"softmax\"))\n",
    "\n",
    "#Compile the model\n",
    "model.compile(loss=\"categorical_crossentropy\",optimizer='adam',metrics=['accuracy'])\n",
    "model.summary()```"
   ]
  },
  {
   "cell_type": "code",
   "execution_count": null,
   "id": "a79e739c",
   "metadata": {},
   "outputs": [],
   "source": []
  },
  {
   "cell_type": "code",
   "execution_count": null,
   "id": "c79348d3",
   "metadata": {},
   "outputs": [],
   "source": [
    "model = Sequential()\n",
    "model.add(Embedding(total_words, 64, input_length=max_sequence_len-1))\n",
    "model.add(LSTM(64))\n",
    "model.add(Dropout(0.3))\n",
    "model.add(Dense(total_words, activation='softmax'))\n"
   ]
  },
  {
   "cell_type": "code",
   "execution_count": null,
   "id": "90bb60c3",
   "metadata": {},
   "outputs": [
    {
     "name": "stdout",
     "output_type": "stream",
     "text": [
      "Model: \"sequential_2\"\n",
      "_________________________________________________________________\n",
      " Layer (type)                Output Shape              Param #   \n",
      "=================================================================\n",
      " embedding_2 (Embedding)     (None, 13, 64)            308352    \n",
      "                                                                 \n",
      " lstm_4 (LSTM)               (None, 64)                33024     \n",
      "                                                                 \n",
      " dropout_2 (Dropout)         (None, 64)                0         \n",
      "                                                                 \n",
      " dense_2 (Dense)             (None, 4818)              313170    \n",
      "                                                                 \n",
      "=================================================================\n",
      "Total params: 654546 (2.50 MB)\n",
      "Trainable params: 654546 (2.50 MB)\n",
      "Non-trainable params: 0 (0.00 Byte)\n",
      "_________________________________________________________________\n"
     ]
    }
   ],
   "source": [
    "model.compile(loss=\"categorical_crossentropy\",optimizer='adam',metrics=['accuracy'])\n",
    "model.summary()"
   ]
  },
  {
   "cell_type": "code",
   "execution_count": null,
   "id": "28804d7e",
   "metadata": {},
   "outputs": [
    {
     "name": "stdout",
     "output_type": "stream",
     "text": [
      "Epoch 1/30\n"
     ]
    },
    {
     "name": "stderr",
     "output_type": "stream",
     "text": [
      "2025-06-29 20:34:10.484771: I tensorflow/core/grappler/optimizers/custom_graph_optimizer_registry.cc:114] Plugin optimizer for device_type GPU is enabled.\n",
      "2025-06-29 20:34:10.810046: I tensorflow/core/grappler/optimizers/custom_graph_optimizer_registry.cc:114] Plugin optimizer for device_type GPU is enabled.\n",
      "2025-06-29 20:34:11.882302: I tensorflow/core/grappler/optimizers/custom_graph_optimizer_registry.cc:114] Plugin optimizer for device_type GPU is enabled.\n"
     ]
    },
    {
     "name": "stdout",
     "output_type": "stream",
     "text": [
      "644/644 [==============================] - ETA: 0s - loss: 6.8266 - accuracy: 0.0333"
     ]
    },
    {
     "name": "stderr",
     "output_type": "stream",
     "text": [
      "2025-06-29 20:34:29.501064: I tensorflow/core/grappler/optimizers/custom_graph_optimizer_registry.cc:114] Plugin optimizer for device_type GPU is enabled.\n",
      "2025-06-29 20:34:29.616939: I tensorflow/core/grappler/optimizers/custom_graph_optimizer_registry.cc:114] Plugin optimizer for device_type GPU is enabled.\n"
     ]
    },
    {
     "name": "stdout",
     "output_type": "stream",
     "text": [
      "644/644 [==============================] - 23s 32ms/step - loss: 6.8266 - accuracy: 0.0333 - val_loss: 6.7124 - val_accuracy: 0.0323\n",
      "Epoch 2/30\n",
      "644/644 [==============================] - 18s 28ms/step - loss: 6.4762 - accuracy: 0.0360 - val_loss: 6.7816 - val_accuracy: 0.0412\n",
      "Epoch 3/30\n",
      "644/644 [==============================] - 17s 26ms/step - loss: 6.3715 - accuracy: 0.0411 - val_loss: 6.8611 - val_accuracy: 0.0425\n",
      "Epoch 4/30\n",
      "644/644 [==============================] - 16s 25ms/step - loss: 6.2786 - accuracy: 0.0476 - val_loss: 6.8863 - val_accuracy: 0.0443\n",
      "Epoch 5/30\n",
      "644/644 [==============================] - 16s 25ms/step - loss: 6.1851 - accuracy: 0.0520 - val_loss: 6.9384 - val_accuracy: 0.0474\n",
      "Epoch 6/30\n",
      "644/644 [==============================] - 17s 26ms/step - loss: 6.0887 - accuracy: 0.0573 - val_loss: 6.9770 - val_accuracy: 0.0513\n",
      "Epoch 7/30\n",
      "644/644 [==============================] - 16s 26ms/step - loss: 5.9760 - accuracy: 0.0664 - val_loss: 7.0014 - val_accuracy: 0.0596\n",
      "Epoch 8/30\n",
      "644/644 [==============================] - 17s 26ms/step - loss: 5.8508 - accuracy: 0.0761 - val_loss: 7.0563 - val_accuracy: 0.0670\n",
      "Epoch 9/30\n",
      "644/644 [==============================] - 16s 25ms/step - loss: 5.7210 - accuracy: 0.0842 - val_loss: 7.1037 - val_accuracy: 0.0657\n",
      "Epoch 10/30\n",
      "644/644 [==============================] - 16s 25ms/step - loss: 5.5994 - accuracy: 0.0922 - val_loss: 7.1361 - val_accuracy: 0.0711\n",
      "Epoch 11/30\n",
      "644/644 [==============================] - 16s 25ms/step - loss: 5.4780 - accuracy: 0.0980 - val_loss: 7.2374 - val_accuracy: 0.0703\n",
      "Epoch 12/30\n",
      "644/644 [==============================] - 16s 25ms/step - loss: 5.3663 - accuracy: 0.1051 - val_loss: 7.3092 - val_accuracy: 0.0723\n",
      "Epoch 13/30\n",
      "644/644 [==============================] - 16s 25ms/step - loss: 5.2481 - accuracy: 0.1103 - val_loss: 7.3428 - val_accuracy: 0.0686\n",
      "Epoch 14/30\n",
      "644/644 [==============================] - 16s 25ms/step - loss: 5.1370 - accuracy: 0.1196 - val_loss: 7.4264 - val_accuracy: 0.0701\n",
      "Epoch 15/30\n",
      "644/644 [==============================] - 16s 24ms/step - loss: 5.0244 - accuracy: 0.1249 - val_loss: 7.4907 - val_accuracy: 0.0690\n",
      "Epoch 16/30\n",
      "644/644 [==============================] - 16s 25ms/step - loss: 4.9130 - accuracy: 0.1339 - val_loss: 7.5781 - val_accuracy: 0.0676\n",
      "Epoch 17/30\n",
      "644/644 [==============================] - 17s 26ms/step - loss: 4.8025 - accuracy: 0.1436 - val_loss: 7.6183 - val_accuracy: 0.0703\n",
      "Epoch 18/30\n",
      "644/644 [==============================] - 16s 25ms/step - loss: 4.6898 - accuracy: 0.1513 - val_loss: 7.6876 - val_accuracy: 0.0690\n",
      "Epoch 19/30\n",
      "644/644 [==============================] - 16s 25ms/step - loss: 4.5863 - accuracy: 0.1616 - val_loss: 7.7613 - val_accuracy: 0.0661\n",
      "Epoch 20/30\n",
      "644/644 [==============================] - 16s 25ms/step - loss: 4.4747 - accuracy: 0.1754 - val_loss: 7.8190 - val_accuracy: 0.0699\n",
      "Epoch 21/30\n",
      "644/644 [==============================] - 16s 25ms/step - loss: 4.3820 - accuracy: 0.1833 - val_loss: 7.8882 - val_accuracy: 0.0686\n",
      "Epoch 22/30\n",
      "644/644 [==============================] - 16s 25ms/step - loss: 4.2830 - accuracy: 0.1923 - val_loss: 7.9313 - val_accuracy: 0.0699\n",
      "Epoch 23/30\n",
      "644/644 [==============================] - 16s 25ms/step - loss: 4.1876 - accuracy: 0.2034 - val_loss: 8.0199 - val_accuracy: 0.0713\n",
      "Epoch 24/30\n",
      "644/644 [==============================] - 16s 25ms/step - loss: 4.0846 - accuracy: 0.2153 - val_loss: 8.0724 - val_accuracy: 0.0676\n",
      "Epoch 25/30\n",
      "644/644 [==============================] - 17s 26ms/step - loss: 3.9999 - accuracy: 0.2274 - val_loss: 8.1475 - val_accuracy: 0.0670\n",
      "Epoch 26/30\n",
      "644/644 [==============================] - 17s 26ms/step - loss: 3.9133 - accuracy: 0.2412 - val_loss: 8.2063 - val_accuracy: 0.0670\n",
      "Epoch 27/30\n",
      "644/644 [==============================] - 16s 25ms/step - loss: 3.8284 - accuracy: 0.2538 - val_loss: 8.2677 - val_accuracy: 0.0682\n",
      "Epoch 28/30\n",
      "644/644 [==============================] - 17s 26ms/step - loss: 3.7445 - accuracy: 0.2644 - val_loss: 8.3292 - val_accuracy: 0.0661\n",
      "Epoch 29/30\n",
      "644/644 [==============================] - 16s 25ms/step - loss: 3.6705 - accuracy: 0.2761 - val_loss: 8.4080 - val_accuracy: 0.0663\n",
      "Epoch 30/30\n",
      "644/644 [==============================] - 16s 25ms/step - loss: 3.5789 - accuracy: 0.2931 - val_loss: 8.4680 - val_accuracy: 0.0651\n"
     ]
    }
   ],
   "source": [
    "history4 = model.fit(x_train, y_train, initial_epoch=0, epochs=30, validation_data=(x_test, y_test), )\n"
   ]
  },
  {
   "cell_type": "markdown",
   "id": "90d5aea1",
   "metadata": {},
   "source": [
    "## Improved Model"
   ]
  },
  {
   "cell_type": "code",
   "execution_count": null,
   "id": "2943f841",
   "metadata": {},
   "outputs": [],
   "source": [
    "from keras.layers import Bidirectional"
   ]
  },
  {
   "cell_type": "code",
   "execution_count": null,
   "id": "fd5da33e",
   "metadata": {},
   "outputs": [],
   "source": [
    "model = Sequential()\n",
    "model.add(Embedding(total_words, 128, input_length=max_sequence_len-1))\n",
    "model.add(Bidirectional(LSTM(128, return_sequences=True)))\n",
    "model.add(Dropout(0.5))\n",
    "model.add(LSTM(64))\n",
    "model.add(Dense(total_words, activation='softmax'))"
   ]
  },
  {
   "cell_type": "code",
   "execution_count": null,
   "id": "0b6737d4",
   "metadata": {},
   "outputs": [
    {
     "name": "stdout",
     "output_type": "stream",
     "text": [
      "Model: \"sequential_4\"\n",
      "_________________________________________________________________\n",
      " Layer (type)                Output Shape              Param #   \n",
      "=================================================================\n",
      " embedding_4 (Embedding)     (None, 13, 128)           616704    \n",
      "                                                                 \n",
      " bidirectional (Bidirection  (None, 13, 256)           263168    \n",
      " al)                                                             \n",
      "                                                                 \n",
      " dropout_3 (Dropout)         (None, 13, 256)           0         \n",
      "                                                                 \n",
      " lstm_6 (LSTM)               (None, 64)                82176     \n",
      "                                                                 \n",
      " dense_3 (Dense)             (None, 4818)              313170    \n",
      "                                                                 \n",
      "=================================================================\n",
      "Total params: 1275218 (4.86 MB)\n",
      "Trainable params: 1275218 (4.86 MB)\n",
      "Non-trainable params: 0 (0.00 Byte)\n",
      "_________________________________________________________________\n"
     ]
    }
   ],
   "source": [
    "model.compile(loss=\"categorical_crossentropy\",optimizer='adam',metrics=['accuracy'])\n",
    "model.summary()"
   ]
  },
  {
   "cell_type": "code",
   "execution_count": null,
   "id": "b5fae2ef",
   "metadata": {},
   "outputs": [
    {
     "name": "stdout",
     "output_type": "stream",
     "text": [
      "Epoch 1/30\n"
     ]
    },
    {
     "name": "stderr",
     "output_type": "stream",
     "text": [
      "2025-06-29 20:50:17.731549: I tensorflow/core/grappler/optimizers/custom_graph_optimizer_registry.cc:114] Plugin optimizer for device_type GPU is enabled.\n",
      "2025-06-29 20:50:18.316163: I tensorflow/core/grappler/optimizers/custom_graph_optimizer_registry.cc:114] Plugin optimizer for device_type GPU is enabled.\n",
      "2025-06-29 20:50:18.349519: I tensorflow/core/grappler/optimizers/custom_graph_optimizer_registry.cc:114] Plugin optimizer for device_type GPU is enabled.\n",
      "2025-06-29 20:50:18.971690: I tensorflow/core/grappler/optimizers/custom_graph_optimizer_registry.cc:114] Plugin optimizer for device_type GPU is enabled.\n",
      "2025-06-29 20:50:19.161824: I tensorflow/core/grappler/optimizers/custom_graph_optimizer_registry.cc:114] Plugin optimizer for device_type GPU is enabled.\n",
      "2025-06-29 20:50:19.481084: I tensorflow/core/grappler/optimizers/custom_graph_optimizer_registry.cc:114] Plugin optimizer for device_type GPU is enabled.\n",
      "2025-06-29 20:50:19.521872: I tensorflow/core/grappler/optimizers/custom_graph_optimizer_registry.cc:114] Plugin optimizer for device_type GPU is enabled.\n"
     ]
    },
    {
     "name": "stdout",
     "output_type": "stream",
     "text": [
      "644/644 [==============================] - ETA: 0s - loss: 6.8709 - accuracy: 0.0345"
     ]
    },
    {
     "name": "stderr",
     "output_type": "stream",
     "text": [
      "2025-06-29 20:50:47.632773: I tensorflow/core/grappler/optimizers/custom_graph_optimizer_registry.cc:114] Plugin optimizer for device_type GPU is enabled.\n",
      "2025-06-29 20:50:47.861462: I tensorflow/core/grappler/optimizers/custom_graph_optimizer_registry.cc:114] Plugin optimizer for device_type GPU is enabled.\n",
      "2025-06-29 20:50:47.883700: I tensorflow/core/grappler/optimizers/custom_graph_optimizer_registry.cc:114] Plugin optimizer for device_type GPU is enabled.\n",
      "2025-06-29 20:50:48.017158: I tensorflow/core/grappler/optimizers/custom_graph_optimizer_registry.cc:114] Plugin optimizer for device_type GPU is enabled.\n"
     ]
    },
    {
     "name": "stdout",
     "output_type": "stream",
     "text": [
      "644/644 [==============================] - 36s 49ms/step - loss: 6.8709 - accuracy: 0.0345 - val_loss: 6.7697 - val_accuracy: 0.0404\n",
      "Epoch 2/30\n",
      "644/644 [==============================] - 27s 42ms/step - loss: 6.4111 - accuracy: 0.0414 - val_loss: 6.8104 - val_accuracy: 0.0443\n",
      "Epoch 3/30\n",
      "644/644 [==============================] - 27s 41ms/step - loss: 6.2478 - accuracy: 0.0483 - val_loss: 6.8527 - val_accuracy: 0.0462\n",
      "Epoch 4/30\n",
      "644/644 [==============================] - 27s 42ms/step - loss: 6.1228 - accuracy: 0.0518 - val_loss: 6.8959 - val_accuracy: 0.0486\n",
      "Epoch 5/30\n",
      "644/644 [==============================] - 27s 42ms/step - loss: 6.0078 - accuracy: 0.0587 - val_loss: 6.9570 - val_accuracy: 0.0507\n",
      "Epoch 6/30\n",
      "644/644 [==============================] - 28s 43ms/step - loss: 5.8930 - accuracy: 0.0649 - val_loss: 7.0128 - val_accuracy: 0.0532\n",
      "Epoch 7/30\n",
      "644/644 [==============================] - 28s 43ms/step - loss: 5.7762 - accuracy: 0.0729 - val_loss: 7.0543 - val_accuracy: 0.0567\n",
      "Epoch 8/30\n",
      "644/644 [==============================] - 27s 41ms/step - loss: 5.6579 - accuracy: 0.0824 - val_loss: 7.1133 - val_accuracy: 0.0614\n",
      "Epoch 9/30\n",
      "644/644 [==============================] - 27s 41ms/step - loss: 5.5572 - accuracy: 0.0890 - val_loss: 7.2078 - val_accuracy: 0.0624\n",
      "Epoch 10/30\n",
      "644/644 [==============================] - 27s 42ms/step - loss: 5.4623 - accuracy: 0.0962 - val_loss: 7.2946 - val_accuracy: 0.0598\n",
      "Epoch 11/30\n",
      "644/644 [==============================] - 27s 42ms/step - loss: 5.3543 - accuracy: 0.1013 - val_loss: 7.3459 - val_accuracy: 0.0606\n",
      "Epoch 12/30\n",
      "644/644 [==============================] - 27s 42ms/step - loss: 5.2610 - accuracy: 0.1043 - val_loss: 7.4217 - val_accuracy: 0.0606\n",
      "Epoch 13/30\n",
      "644/644 [==============================] - 27s 42ms/step - loss: 5.1722 - accuracy: 0.1089 - val_loss: 7.4327 - val_accuracy: 0.0629\n",
      "Epoch 14/30\n",
      "644/644 [==============================] - 27s 42ms/step - loss: 5.0817 - accuracy: 0.1152 - val_loss: 7.5693 - val_accuracy: 0.0579\n",
      "Epoch 15/30\n",
      "644/644 [==============================] - 27s 43ms/step - loss: 4.9931 - accuracy: 0.1180 - val_loss: 7.6662 - val_accuracy: 0.0602\n",
      "Epoch 16/30\n",
      "644/644 [==============================] - 29s 45ms/step - loss: 4.9206 - accuracy: 0.1233 - val_loss: 7.7494 - val_accuracy: 0.0565\n",
      "Epoch 17/30\n",
      "644/644 [==============================] - 28s 44ms/step - loss: 4.8312 - accuracy: 0.1271 - val_loss: 7.8647 - val_accuracy: 0.0579\n",
      "Epoch 18/30\n",
      "644/644 [==============================] - 28s 43ms/step - loss: 4.7441 - accuracy: 0.1330 - val_loss: 7.9290 - val_accuracy: 0.0595\n",
      "Epoch 19/30\n",
      "644/644 [==============================] - 28s 43ms/step - loss: 4.6706 - accuracy: 0.1369 - val_loss: 8.0605 - val_accuracy: 0.0629\n",
      "Epoch 20/30\n",
      "644/644 [==============================] - 28s 43ms/step - loss: 4.5914 - accuracy: 0.1422 - val_loss: 8.1432 - val_accuracy: 0.0620\n",
      "Epoch 21/30\n",
      "644/644 [==============================] - 27s 43ms/step - loss: 4.5161 - accuracy: 0.1489 - val_loss: 8.2492 - val_accuracy: 0.0593\n",
      "Epoch 22/30\n",
      "644/644 [==============================] - 27s 42ms/step - loss: 4.4578 - accuracy: 0.1509 - val_loss: 8.3583 - val_accuracy: 0.0593\n",
      "Epoch 23/30\n",
      "644/644 [==============================] - 27s 42ms/step - loss: 4.3881 - accuracy: 0.1563 - val_loss: 8.4584 - val_accuracy: 0.0561\n",
      "Epoch 24/30\n",
      "644/644 [==============================] - 27s 41ms/step - loss: 4.3142 - accuracy: 0.1652 - val_loss: 8.5269 - val_accuracy: 0.0591\n",
      "Epoch 25/30\n",
      "644/644 [==============================] - 27s 42ms/step - loss: 4.2440 - accuracy: 0.1728 - val_loss: 8.6386 - val_accuracy: 0.0606\n",
      "Epoch 26/30\n",
      "644/644 [==============================] - 28s 44ms/step - loss: 4.1743 - accuracy: 0.1798 - val_loss: 8.7402 - val_accuracy: 0.0608\n",
      "Epoch 27/30\n",
      "644/644 [==============================] - 28s 44ms/step - loss: 4.1152 - accuracy: 0.1859 - val_loss: 8.8258 - val_accuracy: 0.0612\n",
      "Epoch 28/30\n",
      "644/644 [==============================] - 27s 41ms/step - loss: 4.0599 - accuracy: 0.1935 - val_loss: 8.9256 - val_accuracy: 0.0624\n",
      "Epoch 29/30\n",
      "644/644 [==============================] - 27s 41ms/step - loss: 4.0413 - accuracy: 0.1966 - val_loss: 8.9972 - val_accuracy: 0.0604\n",
      "Epoch 30/30\n",
      "644/644 [==============================] - 28s 44ms/step - loss: 3.9603 - accuracy: 0.2062 - val_loss: 9.0744 - val_accuracy: 0.0587\n"
     ]
    }
   ],
   "source": [
    "history5 = model.fit(x_train, y_train, initial_epoch=0, epochs=30, validation_data=(x_test, y_test), )\n"
   ]
  },
  {
   "cell_type": "code",
   "execution_count": null,
   "id": "14c9cb97",
   "metadata": {},
   "outputs": [
    {
     "name": "stdout",
     "output_type": "stream",
     "text": [
      "Number of input sequences: 25732\n"
     ]
    }
   ],
   "source": [
    "print(\"Number of input sequences:\", len(input_sequences))\n"
   ]
  },
  {
   "cell_type": "code",
   "execution_count": null,
   "id": "47b44563",
   "metadata": {},
   "outputs": [
    {
     "name": "stdout",
     "output_type": "stream",
     "text": [
      "Vocabulary size (total_words): 4818\n"
     ]
    }
   ],
   "source": [
    "print(\"Vocabulary size (total_words):\", total_words)\n"
   ]
  },
  {
   "cell_type": "code",
   "execution_count": null,
   "id": "86d790a6",
   "metadata": {},
   "outputs": [
    {
     "name": "stdout",
     "output_type": "stream",
     "text": [
      "Example input sequence (tokenized): [   0    0    0    0    0    0    0    0    0    0    0  140    2 1898]\n"
     ]
    }
   ],
   "source": [
    "sequences = pad_sequences(input_sequences, maxlen=max_sequence_len)\n",
    "\n",
    "print(\"Example input sequence (tokenized):\", sequences[100])\n",
    "\n"
   ]
  },
  {
   "cell_type": "code",
   "execution_count": null,
   "id": "637b47b2",
   "metadata": {},
   "outputs": [
    {
     "name": "stdout",
     "output_type": "stream",
     "text": [
      "Decoded sequence: ['?', '?', '?', '?', '?', '?', '?', '?', '?', '?', '?', 'mar', 'and', 'leige']\n"
     ]
    }
   ],
   "source": [
    "reverse_word_index = {v: k for k, v in tokenizer.word_index.items()}\n",
    "decoded_sequence = [reverse_word_index.get(i, '?') for i in sequences[100]]\n",
    "print(\"Decoded sequence:\", decoded_sequence)\n"
   ]
  },
  {
   "cell_type": "code",
   "execution_count": null,
   "id": "f1774f49",
   "metadata": {},
   "outputs": [],
   "source": [
    "from tensorflow.keras.models import Sequential\n",
    "from tensorflow.keras.layers import Embedding, LSTM, Dense, Dropout\n",
    "from tensorflow.keras import regularizers\n",
    "from keras.layers import Bidirectional\n",
    "\n",
    "model = Sequential()\n",
    "model.add(Embedding(total_words, 100, input_length=max_sequence_len-1, mask_zero=True))\n",
    "model.add(Bidirectional(LSTM(128, return_sequences=False, kernel_regularizer=regularizers.l2(0.01))))\n",
    "model.add(Dropout(0.3))\n",
    "model.add(Dense(total_words, activation='softmax', kernel_regularizer=regularizers.l2(0.01)))\n",
    "\n",
    "model.compile(loss='categorical_crossentropy', optimizer='adam', metrics=['accuracy'])\n"
   ]
  },
  {
   "cell_type": "code",
   "execution_count": null,
   "id": "8e6c7133",
   "metadata": {},
   "outputs": [
    {
     "name": "stdout",
     "output_type": "stream",
     "text": [
      "Model: \"sequential_6\"\n",
      "_________________________________________________________________\n",
      " Layer (type)                Output Shape              Param #   \n",
      "=================================================================\n",
      " embedding_6 (Embedding)     (None, 13, 100)           481800    \n",
      "                                                                 \n",
      " bidirectional_1 (Bidirecti  (None, 256)               234496    \n",
      " onal)                                                           \n",
      "                                                                 \n",
      " dropout_5 (Dropout)         (None, 256)               0         \n",
      "                                                                 \n",
      " dense_5 (Dense)             (None, 4818)              1238226   \n",
      "                                                                 \n",
      "=================================================================\n",
      "Total params: 1954522 (7.46 MB)\n",
      "Trainable params: 1954522 (7.46 MB)\n",
      "Non-trainable params: 0 (0.00 Byte)\n",
      "_________________________________________________________________\n"
     ]
    }
   ],
   "source": [
    "model.summary()"
   ]
  },
  {
   "cell_type": "code",
   "execution_count": null,
   "id": "1fb9ee86",
   "metadata": {},
   "outputs": [
    {
     "name": "stdout",
     "output_type": "stream",
     "text": [
      "Epoch 1/50\n"
     ]
    },
    {
     "name": "stderr",
     "output_type": "stream",
     "text": [
      "2025-06-29 21:15:29.369595: I tensorflow/core/grappler/optimizers/custom_graph_optimizer_registry.cc:114] Plugin optimizer for device_type GPU is enabled.\n",
      "2025-06-29 21:15:30.255404: I tensorflow/core/grappler/optimizers/custom_graph_optimizer_registry.cc:114] Plugin optimizer for device_type GPU is enabled.\n",
      "2025-06-29 21:15:30.536057: I tensorflow/core/grappler/optimizers/custom_graph_optimizer_registry.cc:114] Plugin optimizer for device_type GPU is enabled.\n",
      "2025-06-29 21:15:31.404291: I tensorflow/core/grappler/optimizers/custom_graph_optimizer_registry.cc:114] Plugin optimizer for device_type GPU is enabled.\n",
      "2025-06-29 21:15:31.678109: I tensorflow/core/grappler/optimizers/custom_graph_optimizer_registry.cc:114] Plugin optimizer for device_type GPU is enabled.\n"
     ]
    },
    {
     "name": "stdout",
     "output_type": "stream",
     "text": [
      "644/644 [==============================] - ETA: 0s - loss: 7.7523 - accuracy: 0.0301"
     ]
    },
    {
     "name": "stderr",
     "output_type": "stream",
     "text": [
      "2025-06-29 21:25:17.737013: I tensorflow/core/grappler/optimizers/custom_graph_optimizer_registry.cc:114] Plugin optimizer for device_type GPU is enabled.\n",
      "2025-06-29 21:25:18.285798: I tensorflow/core/grappler/optimizers/custom_graph_optimizer_registry.cc:114] Plugin optimizer for device_type GPU is enabled.\n",
      "2025-06-29 21:25:18.419756: I tensorflow/core/grappler/optimizers/custom_graph_optimizer_registry.cc:114] Plugin optimizer for device_type GPU is enabled.\n"
     ]
    },
    {
     "name": "stdout",
     "output_type": "stream",
     "text": [
      "644/644 [==============================] - 608s 936ms/step - loss: 7.7523 - accuracy: 0.0301 - val_loss: 7.3840 - val_accuracy: 0.0323\n",
      "Epoch 2/50\n",
      "644/644 [==============================] - 590s 915ms/step - loss: 7.3010 - accuracy: 0.0292 - val_loss: 7.3735 - val_accuracy: 0.0276\n",
      "Epoch 3/50\n",
      "644/644 [==============================] - 592s 919ms/step - loss: 7.2453 - accuracy: 0.0292 - val_loss: 7.3650 - val_accuracy: 0.0323\n",
      "Epoch 4/50\n",
      "108/644 [====>.........................] - ETA: 8:10 - loss: 7.2111 - accuracy: 0.0312"
     ]
    },
    {
     "ename": "KeyboardInterrupt",
     "evalue": "",
     "output_type": "error",
     "traceback": [
      "\u001b[31m---------------------------------------------------------------------------\u001b[39m\n",
      "\u001b[31mKeyboardInterrupt\u001b[39m                         Traceback (most recent call last)\n",
      "\u001b[36mCell\u001b[39m\u001b[36m \u001b[39m\u001b[32mIn[166]\u001b[39m\u001b[32m, line 1\u001b[39m\n",
      "\u001b[32m----> \u001b[39m\u001b[32m1\u001b[39m history6 = \u001b[43mmodel\u001b[49m\u001b[43m.\u001b[49m\u001b[43mfit\u001b[49m\u001b[43m(\u001b[49m\u001b[43mx_train\u001b[49m\u001b[43m,\u001b[49m\u001b[43m \u001b[49m\u001b[43my_train\u001b[49m\u001b[43m,\u001b[49m\u001b[43m \u001b[49m\u001b[43minitial_epoch\u001b[49m\u001b[43m=\u001b[49m\u001b[32;43m0\u001b[39;49m\u001b[43m,\u001b[49m\u001b[43m \u001b[49m\u001b[43mepochs\u001b[49m\u001b[43m=\u001b[49m\u001b[32;43m50\u001b[39;49m\u001b[43m,\u001b[49m\u001b[43m \u001b[49m\u001b[43mvalidation_data\u001b[49m\u001b[43m=\u001b[49m\u001b[43m(\u001b[49m\u001b[43mx_test\u001b[49m\u001b[43m,\u001b[49m\u001b[43m \u001b[49m\u001b[43my_test\u001b[49m\u001b[43m)\u001b[49m\u001b[43m,\u001b[49m\u001b[43m \u001b[49m\u001b[43m)\u001b[49m\n",
      "\n",
      "\u001b[36mFile \u001b[39m\u001b[32m~/3_projects/3-next-word-pred/myenv/lib/python3.11/site-packages/keras/src/utils/traceback_utils.py:65\u001b[39m, in \u001b[36mfilter_traceback.<locals>.error_handler\u001b[39m\u001b[34m(*args, **kwargs)\u001b[39m\n",
      "\u001b[32m     63\u001b[39m filtered_tb = \u001b[38;5;28;01mNone\u001b[39;00m\n",
      "\u001b[32m     64\u001b[39m \u001b[38;5;28;01mtry\u001b[39;00m:\n",
      "\u001b[32m---> \u001b[39m\u001b[32m65\u001b[39m     \u001b[38;5;28;01mreturn\u001b[39;00m \u001b[43mfn\u001b[49m\u001b[43m(\u001b[49m\u001b[43m*\u001b[49m\u001b[43margs\u001b[49m\u001b[43m,\u001b[49m\u001b[43m \u001b[49m\u001b[43m*\u001b[49m\u001b[43m*\u001b[49m\u001b[43mkwargs\u001b[49m\u001b[43m)\u001b[49m\n",
      "\u001b[32m     66\u001b[39m \u001b[38;5;28;01mexcept\u001b[39;00m \u001b[38;5;167;01mException\u001b[39;00m \u001b[38;5;28;01mas\u001b[39;00m e:\n",
      "\u001b[32m     67\u001b[39m     filtered_tb = _process_traceback_frames(e.__traceback__)\n",
      "\n",
      "\u001b[36mFile \u001b[39m\u001b[32m~/3_projects/3-next-word-pred/myenv/lib/python3.11/site-packages/keras/src/engine/training.py:1742\u001b[39m, in \u001b[36mModel.fit\u001b[39m\u001b[34m(self, x, y, batch_size, epochs, verbose, callbacks, validation_split, validation_data, shuffle, class_weight, sample_weight, initial_epoch, steps_per_epoch, validation_steps, validation_batch_size, validation_freq, max_queue_size, workers, use_multiprocessing)\u001b[39m\n",
      "\u001b[32m   1734\u001b[39m \u001b[38;5;28;01mwith\u001b[39;00m tf.profiler.experimental.Trace(\n",
      "\u001b[32m   1735\u001b[39m     \u001b[33m\"\u001b[39m\u001b[33mtrain\u001b[39m\u001b[33m\"\u001b[39m,\n",
      "\u001b[32m   1736\u001b[39m     epoch_num=epoch,\n",
      "\u001b[32m   (...)\u001b[39m\u001b[32m   1739\u001b[39m     _r=\u001b[32m1\u001b[39m,\n",
      "\u001b[32m   1740\u001b[39m ):\n",
      "\u001b[32m   1741\u001b[39m     callbacks.on_train_batch_begin(step)\n",
      "\u001b[32m-> \u001b[39m\u001b[32m1742\u001b[39m     tmp_logs = \u001b[38;5;28;43mself\u001b[39;49m\u001b[43m.\u001b[49m\u001b[43mtrain_function\u001b[49m\u001b[43m(\u001b[49m\u001b[43miterator\u001b[49m\u001b[43m)\u001b[49m\n",
      "\u001b[32m   1743\u001b[39m     \u001b[38;5;28;01mif\u001b[39;00m data_handler.should_sync:\n",
      "\u001b[32m   1744\u001b[39m         context.async_wait()\n",
      "\n",
      "\u001b[36mFile \u001b[39m\u001b[32m~/3_projects/3-next-word-pred/myenv/lib/python3.11/site-packages/tensorflow/python/util/traceback_utils.py:150\u001b[39m, in \u001b[36mfilter_traceback.<locals>.error_handler\u001b[39m\u001b[34m(*args, **kwargs)\u001b[39m\n",
      "\u001b[32m    148\u001b[39m filtered_tb = \u001b[38;5;28;01mNone\u001b[39;00m\n",
      "\u001b[32m    149\u001b[39m \u001b[38;5;28;01mtry\u001b[39;00m:\n",
      "\u001b[32m--> \u001b[39m\u001b[32m150\u001b[39m   \u001b[38;5;28;01mreturn\u001b[39;00m \u001b[43mfn\u001b[49m\u001b[43m(\u001b[49m\u001b[43m*\u001b[49m\u001b[43margs\u001b[49m\u001b[43m,\u001b[49m\u001b[43m \u001b[49m\u001b[43m*\u001b[49m\u001b[43m*\u001b[49m\u001b[43mkwargs\u001b[49m\u001b[43m)\u001b[49m\n",
      "\u001b[32m    151\u001b[39m \u001b[38;5;28;01mexcept\u001b[39;00m \u001b[38;5;167;01mException\u001b[39;00m \u001b[38;5;28;01mas\u001b[39;00m e:\n",
      "\u001b[32m    152\u001b[39m   filtered_tb = _process_traceback_frames(e.__traceback__)\n",
      "\n",
      "\u001b[36mFile \u001b[39m\u001b[32m~/3_projects/3-next-word-pred/myenv/lib/python3.11/site-packages/tensorflow/python/eager/polymorphic_function/polymorphic_function.py:825\u001b[39m, in \u001b[36mFunction.__call__\u001b[39m\u001b[34m(self, *args, **kwds)\u001b[39m\n",
      "\u001b[32m    822\u001b[39m compiler = \u001b[33m\"\u001b[39m\u001b[33mxla\u001b[39m\u001b[33m\"\u001b[39m \u001b[38;5;28;01mif\u001b[39;00m \u001b[38;5;28mself\u001b[39m._jit_compile \u001b[38;5;28;01melse\u001b[39;00m \u001b[33m\"\u001b[39m\u001b[33mnonXla\u001b[39m\u001b[33m\"\u001b[39m\n",
      "\u001b[32m    824\u001b[39m \u001b[38;5;28;01mwith\u001b[39;00m OptionalXlaContext(\u001b[38;5;28mself\u001b[39m._jit_compile):\n",
      "\u001b[32m--> \u001b[39m\u001b[32m825\u001b[39m   result = \u001b[38;5;28;43mself\u001b[39;49m\u001b[43m.\u001b[49m\u001b[43m_call\u001b[49m\u001b[43m(\u001b[49m\u001b[43m*\u001b[49m\u001b[43margs\u001b[49m\u001b[43m,\u001b[49m\u001b[43m \u001b[49m\u001b[43m*\u001b[49m\u001b[43m*\u001b[49m\u001b[43mkwds\u001b[49m\u001b[43m)\u001b[49m\n",
      "\u001b[32m    827\u001b[39m new_tracing_count = \u001b[38;5;28mself\u001b[39m.experimental_get_tracing_count()\n",
      "\u001b[32m    828\u001b[39m without_tracing = (tracing_count == new_tracing_count)\n",
      "\n",
      "\u001b[36mFile \u001b[39m\u001b[32m~/3_projects/3-next-word-pred/myenv/lib/python3.11/site-packages/tensorflow/python/eager/polymorphic_function/polymorphic_function.py:857\u001b[39m, in \u001b[36mFunction._call\u001b[39m\u001b[34m(self, *args, **kwds)\u001b[39m\n",
      "\u001b[32m    854\u001b[39m   \u001b[38;5;28mself\u001b[39m._lock.release()\n",
      "\u001b[32m    855\u001b[39m   \u001b[38;5;66;03m# In this case we have created variables on the first call, so we run the\u001b[39;00m\n",
      "\u001b[32m    856\u001b[39m   \u001b[38;5;66;03m# defunned version which is guaranteed to never create variables.\u001b[39;00m\n",
      "\u001b[32m--> \u001b[39m\u001b[32m857\u001b[39m   \u001b[38;5;28;01mreturn\u001b[39;00m \u001b[38;5;28;43mself\u001b[39;49m\u001b[43m.\u001b[49m\u001b[43m_no_variable_creation_fn\u001b[49m\u001b[43m(\u001b[49m\u001b[43m*\u001b[49m\u001b[43margs\u001b[49m\u001b[43m,\u001b[49m\u001b[43m \u001b[49m\u001b[43m*\u001b[49m\u001b[43m*\u001b[49m\u001b[43mkwds\u001b[49m\u001b[43m)\u001b[49m  \u001b[38;5;66;03m# pylint: disable=not-callable\u001b[39;00m\n",
      "\u001b[32m    858\u001b[39m \u001b[38;5;28;01melif\u001b[39;00m \u001b[38;5;28mself\u001b[39m._variable_creation_fn \u001b[38;5;129;01mis\u001b[39;00m \u001b[38;5;129;01mnot\u001b[39;00m \u001b[38;5;28;01mNone\u001b[39;00m:\n",
      "\u001b[32m    859\u001b[39m   \u001b[38;5;66;03m# Release the lock early so that multiple threads can perform the call\u001b[39;00m\n",
      "\u001b[32m    860\u001b[39m   \u001b[38;5;66;03m# in parallel.\u001b[39;00m\n",
      "\u001b[32m    861\u001b[39m   \u001b[38;5;28mself\u001b[39m._lock.release()\n",
      "\n",
      "\u001b[36mFile \u001b[39m\u001b[32m~/3_projects/3-next-word-pred/myenv/lib/python3.11/site-packages/tensorflow/python/eager/polymorphic_function/tracing_compiler.py:148\u001b[39m, in \u001b[36mTracingCompiler.__call__\u001b[39m\u001b[34m(self, *args, **kwargs)\u001b[39m\n",
      "\u001b[32m    145\u001b[39m \u001b[38;5;28;01mwith\u001b[39;00m \u001b[38;5;28mself\u001b[39m._lock:\n",
      "\u001b[32m    146\u001b[39m   (concrete_function,\n",
      "\u001b[32m    147\u001b[39m    filtered_flat_args) = \u001b[38;5;28mself\u001b[39m._maybe_define_function(args, kwargs)\n",
      "\u001b[32m--> \u001b[39m\u001b[32m148\u001b[39m \u001b[38;5;28;01mreturn\u001b[39;00m \u001b[43mconcrete_function\u001b[49m\u001b[43m.\u001b[49m\u001b[43m_call_flat\u001b[49m\u001b[43m(\u001b[49m\n",
      "\u001b[32m    149\u001b[39m \u001b[43m    \u001b[49m\u001b[43mfiltered_flat_args\u001b[49m\u001b[43m,\u001b[49m\u001b[43m \u001b[49m\u001b[43mcaptured_inputs\u001b[49m\u001b[43m=\u001b[49m\u001b[43mconcrete_function\u001b[49m\u001b[43m.\u001b[49m\u001b[43mcaptured_inputs\u001b[49m\u001b[43m)\u001b[49m\n",
      "\n",
      "\u001b[36mFile \u001b[39m\u001b[32m~/3_projects/3-next-word-pred/myenv/lib/python3.11/site-packages/tensorflow/python/eager/polymorphic_function/monomorphic_function.py:1349\u001b[39m, in \u001b[36mConcreteFunction._call_flat\u001b[39m\u001b[34m(self, args, captured_inputs)\u001b[39m\n",
      "\u001b[32m   1345\u001b[39m possible_gradient_type = gradients_util.PossibleTapeGradientTypes(args)\n",
      "\u001b[32m   1346\u001b[39m \u001b[38;5;28;01mif\u001b[39;00m (possible_gradient_type == gradients_util.POSSIBLE_GRADIENT_TYPES_NONE\n",
      "\u001b[32m   1347\u001b[39m     \u001b[38;5;129;01mand\u001b[39;00m executing_eagerly):\n",
      "\u001b[32m   1348\u001b[39m   \u001b[38;5;66;03m# No tape is watching; skip to running the function.\u001b[39;00m\n",
      "\u001b[32m-> \u001b[39m\u001b[32m1349\u001b[39m   \u001b[38;5;28;01mreturn\u001b[39;00m \u001b[38;5;28mself\u001b[39m._build_call_outputs(\u001b[38;5;28;43mself\u001b[39;49m\u001b[43m.\u001b[49m\u001b[43m_inference_function\u001b[49m\u001b[43m(\u001b[49m\u001b[43m*\u001b[49m\u001b[43margs\u001b[49m\u001b[43m)\u001b[49m)\n",
      "\u001b[32m   1350\u001b[39m forward_backward = \u001b[38;5;28mself\u001b[39m._select_forward_and_backward_functions(\n",
      "\u001b[32m   1351\u001b[39m     args,\n",
      "\u001b[32m   1352\u001b[39m     possible_gradient_type,\n",
      "\u001b[32m   1353\u001b[39m     executing_eagerly)\n",
      "\u001b[32m   1354\u001b[39m forward_function, args_with_tangents = forward_backward.forward()\n",
      "\n",
      "\u001b[36mFile \u001b[39m\u001b[32m~/3_projects/3-next-word-pred/myenv/lib/python3.11/site-packages/tensorflow/python/eager/polymorphic_function/atomic_function.py:196\u001b[39m, in \u001b[36mAtomicFunction.__call__\u001b[39m\u001b[34m(self, *args)\u001b[39m\n",
      "\u001b[32m    194\u001b[39m \u001b[38;5;28;01mwith\u001b[39;00m record.stop_recording():\n",
      "\u001b[32m    195\u001b[39m   \u001b[38;5;28;01mif\u001b[39;00m \u001b[38;5;28mself\u001b[39m._bound_context.executing_eagerly():\n",
      "\u001b[32m--> \u001b[39m\u001b[32m196\u001b[39m     outputs = \u001b[38;5;28;43mself\u001b[39;49m\u001b[43m.\u001b[49m\u001b[43m_bound_context\u001b[49m\u001b[43m.\u001b[49m\u001b[43mcall_function\u001b[49m\u001b[43m(\u001b[49m\n",
      "\u001b[32m    197\u001b[39m \u001b[43m        \u001b[49m\u001b[38;5;28;43mself\u001b[39;49m\u001b[43m.\u001b[49m\u001b[43mname\u001b[49m\u001b[43m,\u001b[49m\n",
      "\u001b[32m    198\u001b[39m \u001b[43m        \u001b[49m\u001b[38;5;28;43mlist\u001b[39;49m\u001b[43m(\u001b[49m\u001b[43margs\u001b[49m\u001b[43m)\u001b[49m\u001b[43m,\u001b[49m\n",
      "\u001b[32m    199\u001b[39m \u001b[43m        \u001b[49m\u001b[38;5;28;43mlen\u001b[39;49m\u001b[43m(\u001b[49m\u001b[38;5;28;43mself\u001b[39;49m\u001b[43m.\u001b[49m\u001b[43mfunction_type\u001b[49m\u001b[43m.\u001b[49m\u001b[43mflat_outputs\u001b[49m\u001b[43m)\u001b[49m\u001b[43m,\u001b[49m\n",
      "\u001b[32m    200\u001b[39m \u001b[43m    \u001b[49m\u001b[43m)\u001b[49m\n",
      "\u001b[32m    201\u001b[39m   \u001b[38;5;28;01melse\u001b[39;00m:\n",
      "\u001b[32m    202\u001b[39m     outputs = make_call_op_in_graph(\u001b[38;5;28mself\u001b[39m, \u001b[38;5;28mlist\u001b[39m(args))\n",
      "\n",
      "\u001b[36mFile \u001b[39m\u001b[32m~/3_projects/3-next-word-pred/myenv/lib/python3.11/site-packages/tensorflow/python/eager/context.py:1457\u001b[39m, in \u001b[36mContext.call_function\u001b[39m\u001b[34m(self, name, tensor_inputs, num_outputs)\u001b[39m\n",
      "\u001b[32m   1455\u001b[39m cancellation_context = cancellation.context()\n",
      "\u001b[32m   1456\u001b[39m \u001b[38;5;28;01mif\u001b[39;00m cancellation_context \u001b[38;5;129;01mis\u001b[39;00m \u001b[38;5;28;01mNone\u001b[39;00m:\n",
      "\u001b[32m-> \u001b[39m\u001b[32m1457\u001b[39m   outputs = \u001b[43mexecute\u001b[49m\u001b[43m.\u001b[49m\u001b[43mexecute\u001b[49m\u001b[43m(\u001b[49m\n",
      "\u001b[32m   1458\u001b[39m \u001b[43m      \u001b[49m\u001b[43mname\u001b[49m\u001b[43m.\u001b[49m\u001b[43mdecode\u001b[49m\u001b[43m(\u001b[49m\u001b[33;43m\"\u001b[39;49m\u001b[33;43mutf-8\u001b[39;49m\u001b[33;43m\"\u001b[39;49m\u001b[43m)\u001b[49m\u001b[43m,\u001b[49m\n",
      "\u001b[32m   1459\u001b[39m \u001b[43m      \u001b[49m\u001b[43mnum_outputs\u001b[49m\u001b[43m=\u001b[49m\u001b[43mnum_outputs\u001b[49m\u001b[43m,\u001b[49m\n",
      "\u001b[32m   1460\u001b[39m \u001b[43m      \u001b[49m\u001b[43minputs\u001b[49m\u001b[43m=\u001b[49m\u001b[43mtensor_inputs\u001b[49m\u001b[43m,\u001b[49m\n",
      "\u001b[32m   1461\u001b[39m \u001b[43m      \u001b[49m\u001b[43mattrs\u001b[49m\u001b[43m=\u001b[49m\u001b[43mattrs\u001b[49m\u001b[43m,\u001b[49m\n",
      "\u001b[32m   1462\u001b[39m \u001b[43m      \u001b[49m\u001b[43mctx\u001b[49m\u001b[43m=\u001b[49m\u001b[38;5;28;43mself\u001b[39;49m\u001b[43m,\u001b[49m\n",
      "\u001b[32m   1463\u001b[39m \u001b[43m  \u001b[49m\u001b[43m)\u001b[49m\n",
      "\u001b[32m   1464\u001b[39m \u001b[38;5;28;01melse\u001b[39;00m:\n",
      "\u001b[32m   1465\u001b[39m   outputs = execute.execute_with_cancellation(\n",
      "\u001b[32m   1466\u001b[39m       name.decode(\u001b[33m\"\u001b[39m\u001b[33mutf-8\u001b[39m\u001b[33m\"\u001b[39m),\n",
      "\u001b[32m   1467\u001b[39m       num_outputs=num_outputs,\n",
      "\u001b[32m   (...)\u001b[39m\u001b[32m   1471\u001b[39m       cancellation_manager=cancellation_context,\n",
      "\u001b[32m   1472\u001b[39m   )\n",
      "\n",
      "\u001b[36mFile \u001b[39m\u001b[32m~/3_projects/3-next-word-pred/myenv/lib/python3.11/site-packages/tensorflow/python/eager/execute.py:53\u001b[39m, in \u001b[36mquick_execute\u001b[39m\u001b[34m(op_name, num_outputs, inputs, attrs, ctx, name)\u001b[39m\n",
      "\u001b[32m     51\u001b[39m \u001b[38;5;28;01mtry\u001b[39;00m:\n",
      "\u001b[32m     52\u001b[39m   ctx.ensure_initialized()\n",
      "\u001b[32m---> \u001b[39m\u001b[32m53\u001b[39m   tensors = \u001b[43mpywrap_tfe\u001b[49m\u001b[43m.\u001b[49m\u001b[43mTFE_Py_Execute\u001b[49m\u001b[43m(\u001b[49m\u001b[43mctx\u001b[49m\u001b[43m.\u001b[49m\u001b[43m_handle\u001b[49m\u001b[43m,\u001b[49m\u001b[43m \u001b[49m\u001b[43mdevice_name\u001b[49m\u001b[43m,\u001b[49m\u001b[43m \u001b[49m\u001b[43mop_name\u001b[49m\u001b[43m,\u001b[49m\n",
      "\u001b[32m     54\u001b[39m \u001b[43m                                      \u001b[49m\u001b[43minputs\u001b[49m\u001b[43m,\u001b[49m\u001b[43m \u001b[49m\u001b[43mattrs\u001b[49m\u001b[43m,\u001b[49m\u001b[43m \u001b[49m\u001b[43mnum_outputs\u001b[49m\u001b[43m)\u001b[49m\n",
      "\u001b[32m     55\u001b[39m \u001b[38;5;28;01mexcept\u001b[39;00m core._NotOkStatusException \u001b[38;5;28;01mas\u001b[39;00m e:\n",
      "\u001b[32m     56\u001b[39m   \u001b[38;5;28;01mif\u001b[39;00m name \u001b[38;5;129;01mis\u001b[39;00m \u001b[38;5;129;01mnot\u001b[39;00m \u001b[38;5;28;01mNone\u001b[39;00m:\n",
      "\n",
      "\u001b[31mKeyboardInterrupt\u001b[39m: "
     ]
    }
   ],
   "source": [
    "history6 = model.fit(x_train, y_train, initial_epoch=0, epochs=50, validation_data=(x_test, y_test), )\n"
   ]
  },
  {
   "cell_type": "code",
   "execution_count": null,
   "id": "d61864e2",
   "metadata": {},
   "outputs": [],
   "source": []
  }
 ],
 "metadata": {
  "kernelspec": {
   "display_name": "myenv",
   "language": "python",
   "name": "python3"
  },
  "language_info": {
   "codemirror_mode": {
    "name": "ipython",
    "version": 3
   },
   "file_extension": ".py",
   "mimetype": "text/x-python",
   "name": "python",
   "nbconvert_exporter": "python",
   "pygments_lexer": "ipython3",
   "version": "3.11.9"
  }
 },
 "nbformat": 4,
 "nbformat_minor": 5
}
